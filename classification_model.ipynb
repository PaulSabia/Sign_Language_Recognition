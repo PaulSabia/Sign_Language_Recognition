{
 "cells": [
  {
   "cell_type": "markdown",
   "metadata": {},
   "source": [
    "# Formation du modèle"
   ]
  },
  {
   "cell_type": "code",
   "execution_count": 1,
   "metadata": {},
   "outputs": [],
   "source": [
    "import numpy as np\n",
    "import pandas as pd\n",
    "import matplotlib.pyplot as plt"
   ]
  },
  {
   "cell_type": "code",
   "execution_count": 2,
   "metadata": {},
   "outputs": [],
   "source": [
    "df = pd.read_csv('data_final.csv')"
   ]
  },
  {
   "cell_type": "code",
   "execution_count": 3,
   "metadata": {},
   "outputs": [
    {
     "data": {
      "text/html": [
       "<div>\n",
       "<style scoped>\n",
       "    .dataframe tbody tr th:only-of-type {\n",
       "        vertical-align: middle;\n",
       "    }\n",
       "\n",
       "    .dataframe tbody tr th {\n",
       "        vertical-align: top;\n",
       "    }\n",
       "\n",
       "    .dataframe thead th {\n",
       "        text-align: right;\n",
       "    }\n",
       "</style>\n",
       "<table border=\"1\" class=\"dataframe\">\n",
       "  <thead>\n",
       "    <tr style=\"text-align: right;\">\n",
       "      <th></th>\n",
       "      <th>Name</th>\n",
       "      <th>Path</th>\n",
       "      <th>Target</th>\n",
       "      <th>x0</th>\n",
       "      <th>y0</th>\n",
       "      <th>z0</th>\n",
       "      <th>x1</th>\n",
       "      <th>y1</th>\n",
       "      <th>z1</th>\n",
       "      <th>x2</th>\n",
       "      <th>...</th>\n",
       "      <th>z17</th>\n",
       "      <th>x18</th>\n",
       "      <th>y18</th>\n",
       "      <th>z18</th>\n",
       "      <th>x19</th>\n",
       "      <th>y19</th>\n",
       "      <th>z19</th>\n",
       "      <th>x20</th>\n",
       "      <th>y20</th>\n",
       "      <th>z20</th>\n",
       "    </tr>\n",
       "  </thead>\n",
       "  <tbody>\n",
       "    <tr>\n",
       "      <th>0</th>\n",
       "      <td>A_000</td>\n",
       "      <td>C:\\Users\\utilisateur\\Documents\\microsoft_IA\\Pr...</td>\n",
       "      <td>A</td>\n",
       "      <td>0.229569</td>\n",
       "      <td>0.444634</td>\n",
       "      <td>-0.000014</td>\n",
       "      <td>0.266084</td>\n",
       "      <td>0.391483</td>\n",
       "      <td>-0.017858</td>\n",
       "      <td>0.293316</td>\n",
       "      <td>...</td>\n",
       "      <td>-0.023318</td>\n",
       "      <td>0.187018</td>\n",
       "      <td>0.260286</td>\n",
       "      <td>-0.044687</td>\n",
       "      <td>0.196690</td>\n",
       "      <td>0.304484</td>\n",
       "      <td>-0.043205</td>\n",
       "      <td>0.198647</td>\n",
       "      <td>0.313999</td>\n",
       "      <td>-0.027439</td>\n",
       "    </tr>\n",
       "    <tr>\n",
       "      <th>1</th>\n",
       "      <td>A_001</td>\n",
       "      <td>C:\\Users\\utilisateur\\Documents\\microsoft_IA\\Pr...</td>\n",
       "      <td>A</td>\n",
       "      <td>0.326145</td>\n",
       "      <td>0.457524</td>\n",
       "      <td>0.000023</td>\n",
       "      <td>0.356874</td>\n",
       "      <td>0.438809</td>\n",
       "      <td>-0.031042</td>\n",
       "      <td>0.384046</td>\n",
       "      <td>...</td>\n",
       "      <td>-0.035017</td>\n",
       "      <td>0.299476</td>\n",
       "      <td>0.338017</td>\n",
       "      <td>-0.056236</td>\n",
       "      <td>0.306872</td>\n",
       "      <td>0.371106</td>\n",
       "      <td>-0.060166</td>\n",
       "      <td>0.312788</td>\n",
       "      <td>0.375171</td>\n",
       "      <td>-0.054218</td>\n",
       "    </tr>\n",
       "    <tr>\n",
       "      <th>2</th>\n",
       "      <td>A_002</td>\n",
       "      <td>C:\\Users\\utilisateur\\Documents\\microsoft_IA\\Pr...</td>\n",
       "      <td>A</td>\n",
       "      <td>0.389025</td>\n",
       "      <td>0.445136</td>\n",
       "      <td>0.000024</td>\n",
       "      <td>0.425415</td>\n",
       "      <td>0.420819</td>\n",
       "      <td>-0.022708</td>\n",
       "      <td>0.456886</td>\n",
       "      <td>...</td>\n",
       "      <td>-0.032746</td>\n",
       "      <td>0.368978</td>\n",
       "      <td>0.306833</td>\n",
       "      <td>-0.048165</td>\n",
       "      <td>0.374945</td>\n",
       "      <td>0.342649</td>\n",
       "      <td>-0.054728</td>\n",
       "      <td>0.376168</td>\n",
       "      <td>0.347345</td>\n",
       "      <td>-0.054231</td>\n",
       "    </tr>\n",
       "    <tr>\n",
       "      <th>3</th>\n",
       "      <td>A_003</td>\n",
       "      <td>C:\\Users\\utilisateur\\Documents\\microsoft_IA\\Pr...</td>\n",
       "      <td>A</td>\n",
       "      <td>0.074114</td>\n",
       "      <td>0.572558</td>\n",
       "      <td>-0.000011</td>\n",
       "      <td>0.139794</td>\n",
       "      <td>0.579121</td>\n",
       "      <td>-0.042297</td>\n",
       "      <td>0.202413</td>\n",
       "      <td>...</td>\n",
       "      <td>-0.008108</td>\n",
       "      <td>0.097871</td>\n",
       "      <td>0.409136</td>\n",
       "      <td>-0.041117</td>\n",
       "      <td>0.093771</td>\n",
       "      <td>0.457411</td>\n",
       "      <td>-0.041635</td>\n",
       "      <td>0.100784</td>\n",
       "      <td>0.474702</td>\n",
       "      <td>-0.017104</td>\n",
       "    </tr>\n",
       "    <tr>\n",
       "      <th>4</th>\n",
       "      <td>A_004</td>\n",
       "      <td>C:\\Users\\utilisateur\\Documents\\microsoft_IA\\Pr...</td>\n",
       "      <td>A</td>\n",
       "      <td>0.145682</td>\n",
       "      <td>0.324369</td>\n",
       "      <td>-0.000038</td>\n",
       "      <td>0.217293</td>\n",
       "      <td>0.309837</td>\n",
       "      <td>-0.016368</td>\n",
       "      <td>0.269147</td>\n",
       "      <td>...</td>\n",
       "      <td>0.003826</td>\n",
       "      <td>0.184741</td>\n",
       "      <td>0.124865</td>\n",
       "      <td>-0.022037</td>\n",
       "      <td>0.181261</td>\n",
       "      <td>0.173076</td>\n",
       "      <td>-0.031378</td>\n",
       "      <td>0.185656</td>\n",
       "      <td>0.193296</td>\n",
       "      <td>-0.011991</td>\n",
       "    </tr>\n",
       "  </tbody>\n",
       "</table>\n",
       "<p>5 rows × 66 columns</p>\n",
       "</div>"
      ],
      "text/plain": [
       "    Name                                               Path Target        x0  \\\n",
       "0  A_000  C:\\Users\\utilisateur\\Documents\\microsoft_IA\\Pr...      A  0.229569   \n",
       "1  A_001  C:\\Users\\utilisateur\\Documents\\microsoft_IA\\Pr...      A  0.326145   \n",
       "2  A_002  C:\\Users\\utilisateur\\Documents\\microsoft_IA\\Pr...      A  0.389025   \n",
       "3  A_003  C:\\Users\\utilisateur\\Documents\\microsoft_IA\\Pr...      A  0.074114   \n",
       "4  A_004  C:\\Users\\utilisateur\\Documents\\microsoft_IA\\Pr...      A  0.145682   \n",
       "\n",
       "         y0        z0        x1        y1        z1        x2  ...       z17  \\\n",
       "0  0.444634 -0.000014  0.266084  0.391483 -0.017858  0.293316  ... -0.023318   \n",
       "1  0.457524  0.000023  0.356874  0.438809 -0.031042  0.384046  ... -0.035017   \n",
       "2  0.445136  0.000024  0.425415  0.420819 -0.022708  0.456886  ... -0.032746   \n",
       "3  0.572558 -0.000011  0.139794  0.579121 -0.042297  0.202413  ... -0.008108   \n",
       "4  0.324369 -0.000038  0.217293  0.309837 -0.016368  0.269147  ...  0.003826   \n",
       "\n",
       "        x18       y18       z18       x19       y19       z19       x20  \\\n",
       "0  0.187018  0.260286 -0.044687  0.196690  0.304484 -0.043205  0.198647   \n",
       "1  0.299476  0.338017 -0.056236  0.306872  0.371106 -0.060166  0.312788   \n",
       "2  0.368978  0.306833 -0.048165  0.374945  0.342649 -0.054728  0.376168   \n",
       "3  0.097871  0.409136 -0.041117  0.093771  0.457411 -0.041635  0.100784   \n",
       "4  0.184741  0.124865 -0.022037  0.181261  0.173076 -0.031378  0.185656   \n",
       "\n",
       "        y20       z20  \n",
       "0  0.313999 -0.027439  \n",
       "1  0.375171 -0.054218  \n",
       "2  0.347345 -0.054231  \n",
       "3  0.474702 -0.017104  \n",
       "4  0.193296 -0.011991  \n",
       "\n",
       "[5 rows x 66 columns]"
      ]
     },
     "execution_count": 3,
     "metadata": {},
     "output_type": "execute_result"
    }
   ],
   "source": [
    "df.head()"
   ]
  },
  {
   "cell_type": "markdown",
   "metadata": {},
   "source": [
    "## Clean CSV"
   ]
  },
  {
   "cell_type": "markdown",
   "metadata": {},
   "source": [
    "Nous commençons par supprimer les valeurs manquantes dans le csv."
   ]
  },
  {
   "cell_type": "code",
   "execution_count": 4,
   "metadata": {},
   "outputs": [
    {
     "data": {
      "text/plain": [
       "Name        0\n",
       "Path        0\n",
       "Target      0\n",
       "x0        328\n",
       "y0        328\n",
       "         ... \n",
       "y19       328\n",
       "z19       328\n",
       "x20       328\n",
       "y20       328\n",
       "z20       328\n",
       "Length: 66, dtype: int64"
      ]
     },
     "execution_count": 4,
     "metadata": {},
     "output_type": "execute_result"
    }
   ],
   "source": [
    "df.isna().sum()"
   ]
  },
  {
   "cell_type": "code",
   "execution_count": 5,
   "metadata": {},
   "outputs": [],
   "source": [
    "df.dropna(inplace=True)"
   ]
  },
  {
   "cell_type": "markdown",
   "metadata": {},
   "source": [
    "## Train test split"
   ]
  },
  {
   "cell_type": "code",
   "execution_count": 6,
   "metadata": {},
   "outputs": [],
   "source": [
    "from sklearn.model_selection import train_test_split\n",
    "from sklearn.preprocessing import LabelEncoder"
   ]
  },
  {
   "cell_type": "code",
   "execution_count": 7,
   "metadata": {},
   "outputs": [],
   "source": [
    "X = df.iloc[:,3:]\n",
    "y = df.iloc[:, 2]\n",
    "\n",
    "enc = LabelEncoder()\n",
    "y = enc.fit_transform(y)"
   ]
  },
  {
   "cell_type": "code",
   "execution_count": 8,
   "metadata": {},
   "outputs": [
    {
     "name": "stdout",
     "output_type": "stream",
     "text": [
      "(448, 63)\n",
      "(24, 63)\n",
      "(448,)\n",
      "(24,)\n"
     ]
    }
   ],
   "source": [
    "X_train, X_test, y_train, y_test = train_test_split(X, y, test_size=0.05)\n",
    "\n",
    "print(X_train.shape)\n",
    "print(X_test.shape)\n",
    "print(y_train.shape)\n",
    "print(y_test.shape)"
   ]
  },
  {
   "cell_type": "markdown",
   "metadata": {},
   "source": [
    "# RandomForestClassifier\n",
    "\n",
    "Pour le modèle nous utilisons deux méthodes, un split simple avec `train_test_split` et `StratifiedKFold` de sklearn, qui nous permet de répartir équitablement chaque classe dans nos train et test."
   ]
  },
  {
   "cell_type": "code",
   "execution_count": 9,
   "metadata": {},
   "outputs": [],
   "source": [
    "from sklearn.ensemble import RandomForestClassifier\n",
    "from sklearn.metrics import accuracy_score\n",
    "from sklearn.model_selection import StratifiedKFold"
   ]
  },
  {
   "cell_type": "code",
   "execution_count": 10,
   "metadata": {
    "scrolled": true
   },
   "outputs": [
    {
     "name": "stdout",
     "output_type": "stream",
     "text": [
      "StratifiedKFold(n_splits=2, random_state=None, shuffle=False)\n"
     ]
    }
   ],
   "source": [
    "skf = StratifiedKFold(n_splits=2)\n",
    "skf.get_n_splits(X, y)\n",
    "print(skf)\n",
    "\n",
    "for train_index, test_index in skf.split(X, y):\n",
    "    X_train_2, X_test_2 = X.iloc[train_index], X.iloc[test_index]\n",
    "    y_train_2, y_test_2 = y[train_index], y[test_index]"
   ]
  },
  {
   "cell_type": "code",
   "execution_count": 11,
   "metadata": {},
   "outputs": [
    {
     "data": {
      "text/plain": [
       "RandomForestClassifier()"
      ]
     },
     "execution_count": 11,
     "metadata": {},
     "output_type": "execute_result"
    }
   ],
   "source": [
    "model = RandomForestClassifier()\n",
    "model.fit(X_train, y_train)\n",
    "\n",
    "model_2 = RandomForestClassifier()\n",
    "model_2.fit(X_train_2, y_train_2)"
   ]
  },
  {
   "cell_type": "markdown",
   "metadata": {},
   "source": [
    "### Evaluation du modèle"
   ]
  },
  {
   "cell_type": "code",
   "execution_count": 12,
   "metadata": {},
   "outputs": [],
   "source": [
    "predictions = model.predict(X_test)\n",
    "predictions_2 = model.predict(X_test_2)"
   ]
  },
  {
   "cell_type": "code",
   "execution_count": 13,
   "metadata": {},
   "outputs": [
    {
     "name": "stdout",
     "output_type": "stream",
     "text": [
      "Accuracy Model 1 :  0.625\n",
      "Accuracy Model 2 :  0.9745762711864406\n"
     ]
    }
   ],
   "source": [
    "print('Accuracy Model 1 : ', accuracy_score(y_test, predictions))\n",
    "print('Accuracy Model 2 : ', accuracy_score(y_test_2, predictions_2))"
   ]
  },
  {
   "cell_type": "markdown",
   "metadata": {},
   "source": [
    "Nous pouvons remarquer qu'une meilleurs répartition des classes dans nos données de train et test nous donne un modèle avec une précision bien supérieur qu'un simple split soit **97,46 %** contre **62 %**. Nous utiliserons donc ce modèle."
   ]
  },
  {
   "cell_type": "code",
   "execution_count": 14,
   "metadata": {},
   "outputs": [],
   "source": [
    "from sklearn.metrics import confusion_matrix\n",
    "import seaborn as sns"
   ]
  },
  {
   "cell_type": "code",
   "execution_count": 15,
   "metadata": {},
   "outputs": [
    {
     "data": {
      "text/plain": [
       "<AxesSubplot:>"
      ]
     },
     "execution_count": 15,
     "metadata": {},
     "output_type": "execute_result"
    },
    {
     "data": {
      "image/png": "[encoded data removed]",
      "text/plain": [
       "<Figure size 1080x1080 with 2 Axes>"
      ]
     },
     "metadata": {
      "needs_background": "light"
     },
     "output_type": "display_data"
    }
   ],
   "source": [
    "cm = confusion_matrix(y_test_2, predictions_2)\n",
    "plt.figure(figsize=(15,15))\n",
    "sns.heatmap(cm, cmap='mako', annot=True, fmt='d')"
   ]
  },
  {
   "cell_type": "markdown",
   "metadata": {},
   "source": [
    "## Save Model"
   ]
  },
  {
   "cell_type": "code",
   "execution_count": 55,
   "metadata": {},
   "outputs": [],
   "source": [
    "import pickle\n",
    "\n",
    "pickle.dump(model_2, open('model_2.sav', 'wb'))"
   ]
  },
  {
   "cell_type": "markdown",
   "metadata": {},
   "source": [
    "# Test Model"
   ]
  },
  {
   "cell_type": "code",
   "execution_count": 32,
   "metadata": {},
   "outputs": [
    {
     "name": "stdout",
     "output_type": "stream",
     "text": [
      "{0: 'a', 1: 'b', 2: 'c', 3: 'd', 4: 'e', 5: 'f', 6: 'g', 7: 'h', 8: 'i', 9: 'j', 10: 'k', 11: 'l', 12: 'm', 13: 'n', 14: 'o', 15: 'p', 16: 'q', 17: 'r', 18: 's', 19: 't', 20: 'u', 21: 'v', 22: 'w', 23: 'x', 24: 'y', 25: 'z'}\n"
     ]
    }
   ],
   "source": [
    "import mediapipe as mp\n",
    "import cv2\n",
    "from string import ascii_lowercase\n",
    "\n",
    "mp_drawing = mp.solutions.drawing_utils\n",
    "mp_holistic = mp.solutions.holistic\n",
    "\n",
    "dico = {k: v for k, v in enumerate(ascii_lowercase)}\n",
    "print(dico)"
   ]
  },
  {
   "cell_type": "code",
   "execution_count": 53,
   "metadata": {},
   "outputs": [],
   "source": [
    "cap = cv2.VideoCapture(0)\n",
    "\n",
    "#Initiate holistic model:\n",
    "with mp_holistic.Holistic(min_detection_confidence=0.5, min_tracking_confidence=0.5) as holistic:\n",
    "    \n",
    "    while cap.isOpened():\n",
    "        ret, frame = cap.read()\n",
    "        \n",
    "        #Recolor Feed\n",
    "        img = cv2.cvtColor(frame, cv2.COLOR_BGR2RGB)\n",
    "        #Make detection\n",
    "        results = holistic.process(img)\n",
    "        input_model = []\n",
    "        \n",
    "        try:\n",
    "            coords = results.right_hand_landmarks.landmark\n",
    "        \n",
    "            for coord in coords:\n",
    "                input_model.append(coord.x)\n",
    "                input_model.append(coord.y)\n",
    "                input_model.append(coord.z)\n",
    "        \n",
    "        except: pass\n",
    "        \n",
    "        img = cv2.cvtColor(img, cv2.COLOR_RGB2BGR)\n",
    "        \n",
    "        #Right hand\n",
    "        mp_drawing.draw_landmarks(img, results.right_hand_landmarks, mp_holistic.HAND_CONNECTIONS)\n",
    "        \n",
    "        try: \n",
    "            input_model = np.array(input_model).reshape(1, 63)\n",
    "            pred = model_2.predict(input_model)\n",
    "            img = cv2.putText(img, dico[pred[0]],(250,450), cv2.FONT_HERSHEY_SIMPLEX, 4,(255,255,255),5)\n",
    "        except: pass\n",
    "        \n",
    "        cv2.imshow('Test Mediapipe', img)\n",
    "\n",
    "        if cv2.waitKey(1) & 0xFF == ord('q'):\n",
    "            break\n",
    "        \n",
    "cap.release()\n",
    "cv2.destroyAllWindows()"
   ]
  },
  {
   "cell_type": "code",
   "execution_count": null,
   "metadata": {},
   "outputs": [],
   "source": [
    "cap.release()\n",
    "cv2.destroyAllWindows()"
   ]
  },
  {
   "cell_type": "code",
   "execution_count": null,
   "metadata": {},
   "outputs": [],
   "source": []
  }
 ],
 "metadata": {
  "kernelspec": {
   "display_name": "Python 3",
   "language": "python",
   "name": "python3"
  },
  "language_info": {
   "codemirror_mode": {
    "name": "ipython",
    "version": 3
   },
   "file_extension": ".py",
   "mimetype": "text/x-python",
   "name": "python",
   "nbconvert_exporter": "python",
   "pygments_lexer": "ipython3",
   "version": "3.8.3"
  }
 },
 "nbformat": 4,
 "nbformat_minor": 4
}

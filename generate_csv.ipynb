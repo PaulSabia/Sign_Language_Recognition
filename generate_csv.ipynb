{
 "cells": [
  {
   "cell_type": "markdown",
   "metadata": {},
   "source": [
    "# Fabrication du csv\n",
    "\n",
    "A partir du répertoire d'images, nous construisons notre fichier csv, qui nous servira par la suite pour l'apprentissage du modèle."
   ]
  },
  {
   "cell_type": "code",
   "execution_count": 1,
   "metadata": {},
   "outputs": [],
   "source": [
    "import os\n",
    "import numpy as np\n",
    "import pandas as pd\n",
    "import matplotlib.pyplot as plt"
   ]
  },
  {
   "cell_type": "code",
   "execution_count": 2,
   "metadata": {},
   "outputs": [],
   "source": [
    "path = os.getcwd()+\"\\\\dataset_final\"\n",
    "images_name = []\n",
    "images_path = []\n",
    "images_label = []\n",
    "\n",
    "for folder in os.listdir(path):\n",
    "    path_2 = path+f\"\\\\{folder}\"\n",
    "    for img in os.listdir(path_2):\n",
    "        img_name = img.split('.')\n",
    "        images_name.append(img_name[0])\n",
    "        \n",
    "        image_path = path_2+f\"\\\\{img}\"\n",
    "        images_path.append(image_path)\n",
    "    \n",
    "        images_label.append(folder)\n",
    "        "
   ]
  },
  {
   "cell_type": "code",
   "execution_count": 3,
   "metadata": {},
   "outputs": [],
   "source": [
    "d = {\n",
    "    'Name': images_name,\n",
    "    'Path': images_path,\n",
    "    'Target': images_label\n",
    "}\n",
    "\n",
    "df = pd.DataFrame(data = d, columns=['Name', 'Path', 'Target'])"
   ]
  },
  {
   "cell_type": "code",
   "execution_count": 4,
   "metadata": {},
   "outputs": [
    {
     "data": {
      "text/html": [
       "<div>\n",
       "<style scoped>\n",
       "    .dataframe tbody tr th:only-of-type {\n",
       "        vertical-align: middle;\n",
       "    }\n",
       "\n",
       "    .dataframe tbody tr th {\n",
       "        vertical-align: top;\n",
       "    }\n",
       "\n",
       "    .dataframe thead th {\n",
       "        text-align: right;\n",
       "    }\n",
       "</style>\n",
       "<table border=\"1\" class=\"dataframe\">\n",
       "  <thead>\n",
       "    <tr style=\"text-align: right;\">\n",
       "      <th></th>\n",
       "      <th>Name</th>\n",
       "      <th>Path</th>\n",
       "      <th>Target</th>\n",
       "    </tr>\n",
       "  </thead>\n",
       "  <tbody>\n",
       "    <tr>\n",
       "      <th>0</th>\n",
       "      <td>A_000</td>\n",
       "      <td>C:\\Users\\utilisateur\\Documents\\microsoft_IA\\Pr...</td>\n",
       "      <td>A</td>\n",
       "    </tr>\n",
       "    <tr>\n",
       "      <th>1</th>\n",
       "      <td>A_001</td>\n",
       "      <td>C:\\Users\\utilisateur\\Documents\\microsoft_IA\\Pr...</td>\n",
       "      <td>A</td>\n",
       "    </tr>\n",
       "    <tr>\n",
       "      <th>2</th>\n",
       "      <td>A_002</td>\n",
       "      <td>C:\\Users\\utilisateur\\Documents\\microsoft_IA\\Pr...</td>\n",
       "      <td>A</td>\n",
       "    </tr>\n",
       "    <tr>\n",
       "      <th>3</th>\n",
       "      <td>A_003</td>\n",
       "      <td>C:\\Users\\utilisateur\\Documents\\microsoft_IA\\Pr...</td>\n",
       "      <td>A</td>\n",
       "    </tr>\n",
       "    <tr>\n",
       "      <th>4</th>\n",
       "      <td>A_004</td>\n",
       "      <td>C:\\Users\\utilisateur\\Documents\\microsoft_IA\\Pr...</td>\n",
       "      <td>A</td>\n",
       "    </tr>\n",
       "  </tbody>\n",
       "</table>\n",
       "</div>"
      ],
      "text/plain": [
       "    Name                                               Path Target\n",
       "0  A_000  C:\\Users\\utilisateur\\Documents\\microsoft_IA\\Pr...      A\n",
       "1  A_001  C:\\Users\\utilisateur\\Documents\\microsoft_IA\\Pr...      A\n",
       "2  A_002  C:\\Users\\utilisateur\\Documents\\microsoft_IA\\Pr...      A\n",
       "3  A_003  C:\\Users\\utilisateur\\Documents\\microsoft_IA\\Pr...      A\n",
       "4  A_004  C:\\Users\\utilisateur\\Documents\\microsoft_IA\\Pr...      A"
      ]
     },
     "execution_count": 4,
     "metadata": {},
     "output_type": "execute_result"
    }
   ],
   "source": [
    "df.head()"
   ]
  },
  {
   "cell_type": "code",
   "execution_count": 5,
   "metadata": {},
   "outputs": [],
   "source": [
    "df.to_csv(r'data.csv', index=False)"
   ]
  },
  {
   "cell_type": "code",
   "execution_count": 45,
   "metadata": {},
   "outputs": [
    {
     "data": {
      "text/html": [
       "<div>\n",
       "<style scoped>\n",
       "    .dataframe tbody tr th:only-of-type {\n",
       "        vertical-align: middle;\n",
       "    }\n",
       "\n",
       "    .dataframe tbody tr th {\n",
       "        vertical-align: top;\n",
       "    }\n",
       "\n",
       "    .dataframe thead th {\n",
       "        text-align: right;\n",
       "    }\n",
       "</style>\n",
       "<table border=\"1\" class=\"dataframe\">\n",
       "  <thead>\n",
       "    <tr style=\"text-align: right;\">\n",
       "      <th></th>\n",
       "      <th>Name</th>\n",
       "      <th>Path</th>\n",
       "      <th>Target</th>\n",
       "    </tr>\n",
       "  </thead>\n",
       "  <tbody>\n",
       "    <tr>\n",
       "      <th>0</th>\n",
       "      <td>A_000</td>\n",
       "      <td>C:\\Users\\utilisateur\\Documents\\microsoft_IA\\Pr...</td>\n",
       "      <td>A</td>\n",
       "    </tr>\n",
       "    <tr>\n",
       "      <th>1</th>\n",
       "      <td>A_001</td>\n",
       "      <td>C:\\Users\\utilisateur\\Documents\\microsoft_IA\\Pr...</td>\n",
       "      <td>A</td>\n",
       "    </tr>\n",
       "    <tr>\n",
       "      <th>2</th>\n",
       "      <td>A_002</td>\n",
       "      <td>C:\\Users\\utilisateur\\Documents\\microsoft_IA\\Pr...</td>\n",
       "      <td>A</td>\n",
       "    </tr>\n",
       "    <tr>\n",
       "      <th>3</th>\n",
       "      <td>A_003</td>\n",
       "      <td>C:\\Users\\utilisateur\\Documents\\microsoft_IA\\Pr...</td>\n",
       "      <td>A</td>\n",
       "    </tr>\n",
       "    <tr>\n",
       "      <th>4</th>\n",
       "      <td>A_004</td>\n",
       "      <td>C:\\Users\\utilisateur\\Documents\\microsoft_IA\\Pr...</td>\n",
       "      <td>A</td>\n",
       "    </tr>\n",
       "  </tbody>\n",
       "</table>\n",
       "</div>"
      ],
      "text/plain": [
       "    Name                                               Path Target\n",
       "0  A_000  C:\\Users\\utilisateur\\Documents\\microsoft_IA\\Pr...      A\n",
       "1  A_001  C:\\Users\\utilisateur\\Documents\\microsoft_IA\\Pr...      A\n",
       "2  A_002  C:\\Users\\utilisateur\\Documents\\microsoft_IA\\Pr...      A\n",
       "3  A_003  C:\\Users\\utilisateur\\Documents\\microsoft_IA\\Pr...      A\n",
       "4  A_004  C:\\Users\\utilisateur\\Documents\\microsoft_IA\\Pr...      A"
      ]
     },
     "execution_count": 45,
     "metadata": {},
     "output_type": "execute_result"
    }
   ],
   "source": [
    "test_data = pd.read_csv('data.csv')\n",
    "test_data.head()"
   ]
  },
  {
   "cell_type": "code",
   "execution_count": null,
   "metadata": {},
   "outputs": [],
   "source": []
  }
 ],
 "metadata": {
  "kernelspec": {
   "display_name": "Python 3",
   "language": "python",
   "name": "python3"
  },
  "language_info": {
   "codemirror_mode": {
    "name": "ipython",
    "version": 3
   },
   "file_extension": ".py",
   "mimetype": "text/x-python",
   "name": "python",
   "nbconvert_exporter": "python",
   "pygments_lexer": "ipython3",
   "version": "3.8.3"
  }
 },
 "nbformat": 4,
 "nbformat_minor": 4
}
